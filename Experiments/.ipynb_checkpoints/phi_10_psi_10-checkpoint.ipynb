{
 "cells": [
  {
   "cell_type": "markdown",
   "metadata": {},
   "source": [
    "# RL experiment for Φ = 10.0, Ψ = 10.0\n",
    "For Φ = 10.0, Ψ =10.0, the particles swim relatively quickly and is very easily destabilized by the vortices. "
   ]
  },
  {
   "cell_type": "code",
   "execution_count": 1,
   "metadata": {},
   "outputs": [],
   "source": [
    "%run main.ipynb"
   ]
  },
  {
   "cell_type": "code",
   "execution_count": 2,
   "metadata": {},
   "outputs": [],
   "source": [
    "my_Φ = 10.0 # swimming number = v_s/u_0       \n",
    "my_Ψ = 10.0  # stability number = B w_0. B is the characteristic time a perturbed cell takes to return \n",
    "            # to orientation ka if w = 0. smaller means swimming more aligned with ka. \n",
    "my_alpha0 = 1.0 \n",
    "method = \"expSARSA\"\n",
    "eps_decay = True\n",
    "my_eps0 = 1.0\n",
    "my_omega = 0.5"
   ]
  },
  {
   "cell_type": "code",
   "execution_count": null,
   "metadata": {},
   "outputs": [
    {
     "data": {
      "application/vnd.jupyter.widget-view+json": {
       "model_id": "71c4c47f4ae04620b636e8c8a2a4f21f",
       "version_major": 2,
       "version_minor": 0
      },
      "text/plain": [
       "HBox(children=(FloatProgress(value=0.0, max=5000.0), HTML(value='')))"
      ]
     },
     "metadata": {},
     "output_type": "display_data"
    }
   ],
   "source": [
    "Q, Σ, smart, naive, hist_R_tot_smart, hist_R_tot_naive, smart_stored_histories, naive_stored_histories, \\\n",
    "        state_action_counter, chosen_actions, avg_Q_hist, initial_coords, theta_history \\\n",
    "            = training(alpha0=my_alpha0, Φ=my_Φ, Ψ=my_Ψ, method=method, eps0=my_eps0, \\\n",
    "                       eps_decay=eps_decay, omega=my_omega)"
   ]
  }
 ],
 "metadata": {
  "kernelspec": {
   "display_name": "Python 3",
   "language": "python",
   "name": "python3"
  },
  "language_info": {
   "codemirror_mode": {
    "name": "ipython",
    "version": 3
   },
   "file_extension": ".py",
   "mimetype": "text/x-python",
   "name": "python",
   "nbconvert_exporter": "python",
   "pygments_lexer": "ipython3",
   "version": "3.7.6"
  }
 },
 "nbformat": 4,
 "nbformat_minor": 4
}
